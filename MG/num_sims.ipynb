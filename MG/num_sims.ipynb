{
 "cells": [
  {
   "cell_type": "code",
   "execution_count": 2,
   "id": "7eceffb3-317c-43e2-887b-e1597d466448",
   "metadata": {},
   "outputs": [
    {
     "name": "stdout",
     "output_type": "stream",
     "text": [
      "total games: 1000.0\n",
      "player 1 wins: 231.0\n",
      "player one win % = 0.231\n"
     ]
    }
   ],
   "source": [
    "import random\n",
    "import numpy as np\n",
    "\n",
    "\n",
    "# initial variables\n",
    "num_flips = 1000\n",
    "num_sims = 1000\n",
    "\n",
    "\n",
    "\n",
    "\n",
    "def run_sims(num_sims):\n",
    "    h1_win_list = np.array([])\n",
    "    h2_win_list = np.array([])\n",
    "    \n",
    "    # Outer loop for number of simulations\n",
    "    for i in range(num_sims):\n",
    "        p1_flip = np.array([])\n",
    "        p2_flip = np.array([])\n",
    "        h1_count = 0\n",
    "        h2_count = 0\n",
    "        \n",
    "        #Inner loop for number of flips\n",
    "        for i in range(num_flips):\n",
    "            p1_flip = np.append(p1_flip, [random.randint(0,1)])\n",
    "            p2_flip = np.append(p2_flip, [random.randint(0,1)])\n",
    "            \n",
    "            # Add +1 to heads count for player 1\n",
    "            if p1_flip[i] == 0:\n",
    "                h1_count += 1\n",
    "            else:\n",
    "                h1_count = 0\n",
    "                \n",
    "            # Add +1 to heads count for player 2    \n",
    "            if p2_flip[i] == 0:\n",
    "                h2_count += 1\n",
    "            else:\n",
    "                h2_count =0\n",
    "                \n",
    "            # Check for player 2 winning round\n",
    "            if h2_count == 2 and h1_count < 3:\n",
    "                h2_win_list = np.append(h2_win_list,[1])\n",
    "                break\n",
    "            \n",
    "            # Check for player 1 winning round\n",
    "            if h1_count == 3 and h2_count <2:\n",
    "                h1_win_list = np.append(h1_win_list,[1])\n",
    "                break\n",
    "\n",
    "#         print(p1_flip)\n",
    "#         print(p2_flip)\n",
    "#         print()\n",
    "#         print(\"player 1 wins: {}\".format(h1_win_list.sum()))\n",
    "#         print(\"player 2 wins: {}\".format(h2_win_list.sum()))\n",
    "#         print()\n",
    "    total_games = (h1_win_list.sum()+h2_win_list.sum())\n",
    "    p1_wins = h1_win_list.sum()\n",
    "                   \n",
    "    print(\"total games: {}\".format(total_games))\n",
    "    print(\"player 1 wins: {}\".format(p1_wins))\n",
    "    print(\"player one win % = {}\".format(p1_wins/total_games))\n",
    "\n",
    "run_sims(num_sims)\n",
    "\n"
   ]
  },
  {
   "cell_type": "code",
   "execution_count": null,
   "id": "c7f3d5f1-63c5-4aef-b5b2-336d6adf269e",
   "metadata": {},
   "outputs": [],
   "source": []
  }
 ],
 "metadata": {
  "kernelspec": {
   "display_name": "Python 3",
   "language": "python",
   "name": "python3"
  },
  "language_info": {
   "codemirror_mode": {
    "name": "ipython",
    "version": 3
   },
   "file_extension": ".py",
   "mimetype": "text/x-python",
   "name": "python",
   "nbconvert_exporter": "python",
   "pygments_lexer": "ipython3",
   "version": "3.8.3"
  }
 },
 "nbformat": 4,
 "nbformat_minor": 5
}
