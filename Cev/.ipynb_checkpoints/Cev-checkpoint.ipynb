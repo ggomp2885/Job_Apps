{
 "cells": [
  {
   "cell_type": "code",
   "execution_count": 32,
   "metadata": {},
   "outputs": [
    {
     "name": "stdout",
     "output_type": "stream",
     "text": [
      "enemy recorded: 65\n",
      "65\n"
     ]
    }
   ],
   "source": [
    "EPSILON = 16\n",
    "\n",
    "class Node(object):\n",
    "    def __init__(self):\n",
    "        self.value = None\n",
    "        self.left = None\n",
    "        self.right = None\n",
    "        self.enemies = None\n",
    "\n",
    "\n",
    "    def insert(self, to_insert):\n",
    "        if self.value is None:\n",
    "            self.value = to_insert\n",
    "        elif self.value == to_insert:\n",
    "            return\n",
    "        elif (to_insert > self.value - EPSILON) and (to_insert < self.value + EPSILON): \n",
    "            self.enemies = to_insert\n",
    "            print(f'enemy recorded: {to_insert}')\n",
    "        elif to_insert < self.value:\n",
    "            if self.left is None:\n",
    "                self.left = Node()\n",
    "                self.left.insert(to_insert)\n",
    "        else:\n",
    "            if self.right is None:\n",
    "                self.right = Node()\n",
    "                self.right.insert(to_insert)\n",
    "\n",
    "    def has(self, to_search):\n",
    "        if self.value is None:\n",
    "            return False\n",
    "        if to_search == self.value:\n",
    "            return True\n",
    "        if to_search == self.enemies:\n",
    "            return True\n",
    "        if to_search < self.value and self.left is not None:\n",
    "            return self.left.has(to_search)\n",
    "        if self.right is not None:\n",
    "            return self.right.has(to_search)\n",
    "        return False\n",
    "\n",
    "    \n",
    "\n",
    "if __name__ == '__main__':\n",
    "    search_tree = Node()\n",
    "    search_tree.insert(50)\n",
    "    search_tree.insert(30)\n",
    "    search_tree.insert(65)\n",
    "    search_tree.insert(75)\n",
    "    print(search_tree.enemies)\n",
    "\n",
    "    assert search_tree.has(30)\n",
    "    assert search_tree.has(65)\n",
    "    assert not search_tree.has(66)\n",
    "    \n"
   ]
  },
  {
   "cell_type": "code",
   "execution_count": null,
   "metadata": {},
   "outputs": [],
   "source": []
  }
 ],
 "metadata": {
  "instance_type": "ml.t3.medium",
  "kernelspec": {
   "display_name": "Python 3 (Data Science)",
   "language": "python",
   "name": "python3__SAGEMAKER_INTERNAL__arn:aws:sagemaker:us-east-1:081325390199:image/datascience-1.0"
  },
  "language_info": {
   "codemirror_mode": {
    "name": "ipython",
    "version": 3
   },
   "file_extension": ".py",
   "mimetype": "text/x-python",
   "name": "python",
   "nbconvert_exporter": "python",
   "pygments_lexer": "ipython3",
   "version": "3.7.10"
  }
 },
 "nbformat": 4,
 "nbformat_minor": 4
}
