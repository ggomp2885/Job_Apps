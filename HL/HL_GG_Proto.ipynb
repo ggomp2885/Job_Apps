{
 "cells": [
  {
   "cell_type": "markdown",
   "metadata": {},
   "source": [
    "# Greg Gompers completed notebook for the HL_GG Proto Project \n",
    "In this notebook, I have parsed the binary file with python to read and display the 5 necessary outputs"
   ]
  },
  {
   "cell_type": "markdown",
   "metadata": {},
   "source": [
    "##### General Imports"
   ]
  },
  {
   "cell_type": "code",
   "execution_count": 9,
   "metadata": {},
   "outputs": [],
   "source": [
    "import numpy as np\n",
    "import pandas as pd"
   ]
  },
  {
   "cell_type": "markdown",
   "metadata": {},
   "source": [
    "##### Pandas Settings"
   ]
  },
  {
   "cell_type": "code",
   "execution_count": 10,
   "metadata": {},
   "outputs": [],
   "source": [
    "pd.set_option('max_rows', 500)"
   ]
  },
  {
   "cell_type": "markdown",
   "metadata": {},
   "source": [
    "##### Setting up empty DataFrame with format from file"
   ]
  },
  {
   "cell_type": "code",
   "execution_count": 11,
   "metadata": {},
   "outputs": [],
   "source": [
    "with open('txnlog.dat', 'rb') as file:\n",
    "    dt = np.dtype([('Record_type', '>V1'), ('Unix_timestamp', '>u4'),\n",
    "                           ('User_ID', '>u8'),('Amount_in_dollars', '>f8')])\n",
    "    records = np.fromfile('txnlog.dat', dt, count=0, offset=9)\n",
    "    df = pd.DataFrame(records)"
   ]
  },
  {
   "cell_type": "markdown",
   "metadata": {},
   "source": [
    "##### Large Loop to read binary file and assign binary format based on the byte that is found"
   ]
  },
  {
   "cell_type": "code",
   "execution_count": 12,
   "metadata": {},
   "outputs": [],
   "source": [
    "# Initialization of variables\n",
    "byte_count = -1\n",
    "last_byte = -12\n",
    "auto_start_count = 0\n",
    "auto_end_count = 0\n",
    "\n",
    "# This function starts by opening the .dat file, and runs a for loop over each individual byte.\n",
    "# I have used several conditional statements to check for the appearance of the enum characters,\n",
    "# depending on the enum character found, the format is then setup for recording the following bytes,\n",
    "# first, into a temporary dataframe to get the format setup, and then I appended this into the master dataframe (df)\n",
    "# Because the bytes 'b\\x00' and b'\\x01' had a tendancy to appear even when not signifying the enum character,\n",
    "# I built in a \"distance_between_bytes\" variable to ensure that the loop was only picking up\n",
    "# the enum bytes when they appeared in the expected position. Lastly, I commented out the print\n",
    "# statements I had been using along the way to ensure it was working as intended.\n",
    "# These can be re-commented in and you will be able to see the process I was using. \n",
    "# Great Project!\n",
    "\n",
    "with open('txnlog.dat', 'rb') as file:\n",
    "    for byte in iter(lambda: file.read(1), b''):\n",
    "        byte_count += 1\n",
    "#         print('byte_count = {}'.format(byte_count))\n",
    "        d_between_bytes = byte_count - last_byte\n",
    "        if byte_count > 8:\n",
    "            if (b'\\x00' in byte or b'\\x01' in byte) and d_between_bytes in [13, 21]:\n",
    "#                 print()\n",
    "#                 print('bytes between last entry = {}'.format(byte_count - last_byte))\n",
    "#                 print(byte)\n",
    "#                 print('^this byte indicates a DEBIT or CREDIT')\n",
    "#                 print('last_byte = {}'.format(last_byte))\n",
    "                dt = np.dtype([('Record_type', '>V1'), ('Unix_timestamp', '>u4'),\n",
    "                               ('User_ID', '>u8'),('Amount_in_dollars', '>f8')])\n",
    "                records = np.fromfile('txnlog.dat', dt, count=1, offset=byte_count)\n",
    "                temp_df = pd.DataFrame(records)\n",
    "                df = df.append(temp_df, ignore_index=True)\n",
    "                last_byte = byte_count\n",
    "    \n",
    "            elif (b'\\x02' in byte or b'\\x03' in byte) and d_between_bytes in [13, 21]:\n",
    "#                 print()\n",
    "#                 print('bytes between last entry = {}'.format(byte_count - last_byte))\n",
    "#                 print(byte)\n",
    "#                 print('^ this byte indicates starting autopay or ending autopay')\n",
    "#                 print('last_byte = {}'.format(last_byte))\n",
    "                dt = np.dtype([('Record_type', '>V1'), ('Unix_timestamp', '>u4'),\n",
    "                               ('User_ID', '>u8')])\n",
    "                records = np.fromfile('txnlog.dat', dt, count=1, offset=byte_count)\n",
    "                temp_df = pd.DataFrame(records)\n",
    "                df = df.append(temp_df, ignore_index=True)\n",
    "                last_byte = byte_count\n",
    "                if b'\\x02' in byte:\n",
    "                    auto_start_count +=1\n",
    "                if b'\\x03' in byte:\n",
    "                    auto_end_count +=1\n",
    "\n",
    "# display(df)"
   ]
  },
  {
   "cell_type": "markdown",
   "metadata": {},
   "source": [
    "##### Summations and count calculations"
   ]
  },
  {
   "cell_type": "code",
   "execution_count": 13,
   "metadata": {},
   "outputs": [],
   "source": [
    "# Here I have done the pandas calculations to sum for the variables needed,\n",
    "# I also commented out the print statements I used while building, these can\n",
    "# be re-commented in and you will be able to see the process I was using\n",
    "\n",
    "\n",
    "# Summation of credits\n",
    "total_c_df = df[df['Record_type'] == b'\\x01']\n",
    "total_c = total_c_df['Amount_in_dollars'].sum()\n",
    "# display(len(total_c_df))\n",
    "# display(total_c_df)\n",
    "# print(total_c)\n",
    "\n",
    "# Summation of debits\n",
    "total_d_df = df[df['Record_type'] == b'\\x00']\n",
    "total_d = total_d_df['Amount_in_dollars'].sum()\n",
    "# display(len(total_d_df))\n",
    "# display(total_d_df)\n",
    "# print(total_d)\n",
    "\n",
    "# Summation of User 245's balance\n",
    "user_df = df[df['User_ID'] == 2456938384156277127]\n",
    "user_bal = user_df.iloc[0,3] - user_df.iloc[1,3]\n",
    "# display(len(user_df))\n",
    "# display(user_df)\n",
    "# print(user_bal)"
   ]
  },
  {
   "cell_type": "markdown",
   "metadata": {},
   "source": [
    "##### Complete printout"
   ]
  },
  {
   "cell_type": "code",
   "execution_count": 14,
   "metadata": {},
   "outputs": [
    {
     "name": "stdout",
     "output_type": "stream",
     "text": [
      "total credit amount = 10073.359933036814\n",
      "total debit amount = 18203.69953340208\n",
      "autopays started = 10\n",
      "autopays ended = 8\n",
      "balance for user 2456938384156277127 = 0.0\n"
     ]
    }
   ],
   "source": [
    "print('total credit amount = {}'.format(total_c))\n",
    "print('total debit amount = {}'.format(total_d))\n",
    "print(\"autopays started = {}\".format(auto_start_count))\n",
    "print(\"autopays ended = {}\".format(auto_end_count))\n",
    "print('balance for user 2456938384156277127 = {}'.format(user_bal))"
   ]
  },
  {
   "cell_type": "markdown",
   "metadata": {},
   "source": [
    "#### Greg Gompers - HL_Proto Project complete"
   ]
  }
 ],
 "metadata": {
  "kernelspec": {
   "display_name": "Python 3 (Data Science)",
   "language": "python",
   "name": "python3__SAGEMAKER_INTERNAL__arn:aws:sagemaker:us-east-1:081325390199:image/datascience-1.0"
  },
  "language_info": {
   "codemirror_mode": {
    "name": "ipython",
    "version": 3
   },
   "file_extension": ".py",
   "mimetype": "text/x-python",
   "name": "python",
   "nbconvert_exporter": "python",
   "pygments_lexer": "ipython3",
   "version": "3.7.10"
  }
 },
 "nbformat": 4,
 "nbformat_minor": 4
}
