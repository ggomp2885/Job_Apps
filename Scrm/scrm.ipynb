{
 "cells": [
  {
   "cell_type": "markdown",
   "id": "dabf356f-1f07-423b-b025-ff884eab7265",
   "metadata": {},
   "source": [
    "## Scrm live"
   ]
  },
  {
   "cell_type": "markdown",
   "id": "7213f67e-6f93-47ce-bb7a-8a86ccf94b39",
   "metadata": {},
   "source": [
    "## imports"
   ]
  },
  {
   "cell_type": "code",
   "execution_count": 2,
   "id": "a4d322d2-7c4e-4032-b010-247c8514c723",
   "metadata": {},
   "outputs": [],
   "source": [
    "import pandas as pd"
   ]
  },
  {
   "cell_type": "code",
   "execution_count": null,
   "id": "4a0cceb0-7b80-4cc4-8526-5d26e18e16e5",
   "metadata": {},
   "outputs": [],
   "source": [
    "Three states (ON, OFF, ERR)\n",
    "\"Jul 11 16:11:51:490 [13968] Device_state: ON\"\n",
    "\"Jul 11 16:16:51:490 [13968] Device_state: OFF\"\n",
    "\n",
    "log_df = pd.read_table('path/to/log/file.logfile.txt', headers=False, cols=['time', 'ID', 'state'])\n",
    "\n",
    "for i in len(log_df)\n",
    "    created a list of the unique ID numbers\n",
    "    filter by this unique ID (so that the loop only runs on this unique ID at a time)\n",
    "\n",
    "log_df['time'].astype('timestamp')\n",
    "time_elapsed = log"
   ]
  }
 ],
 "metadata": {
  "kernelspec": {
   "display_name": "Python 3",
   "language": "python",
   "name": "python3"
  },
  "language_info": {
   "codemirror_mode": {
    "name": "ipython",
    "version": 3
   },
   "file_extension": ".py",
   "mimetype": "text/x-python",
   "name": "python",
   "nbconvert_exporter": "python",
   "pygments_lexer": "ipython3",
   "version": "3.8.8"
  }
 },
 "nbformat": 4,
 "nbformat_minor": 5
}
